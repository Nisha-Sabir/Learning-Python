{
  "nbformat": 4,
  "nbformat_minor": 0,
  "metadata": {
    "colab": {
      "provenance": [],
      "authorship_tag": "ABX9TyPOB2vUIfs6FT6nvHw0ApcH",
      "include_colab_link": true
    },
    "kernelspec": {
      "name": "python3",
      "display_name": "Python 3"
    },
    "language_info": {
      "name": "python"
    }
  },
  "cells": [
    {
      "cell_type": "markdown",
      "metadata": {
        "id": "view-in-github",
        "colab_type": "text"
      },
      "source": [
        "<a href=\"https://colab.research.google.com/github/Nisha-Sabir/Learning-Python/blob/main/7th_python_project_(password_generator).ipynb\" target=\"_parent\"><img src=\"https://colab.research.google.com/assets/colab-badge.svg\" alt=\"Open In Colab\"/></a>"
      ]
    },
    {
      "cell_type": "markdown",
      "source": [
        "# 7th python project (password generator)"
      ],
      "metadata": {
        "id": "AUOtwb_Yf9jV"
      }
    },
    {
      "cell_type": "code",
      "execution_count": null,
      "metadata": {
        "colab": {
          "base_uri": "https://localhost:8080/"
        },
        "id": "yu11iZMwsCSa",
        "outputId": "f944c2ed-3d79-4190-e669-e13cf9e56a6e"
      },
      "outputs": [
        {
          "output_type": "stream",
          "name": "stdout",
          "text": [
            "Welcome to the Password Generator!\n",
            "How many passwords would you like to generate? 3\n",
            "Enter the length of each password: 6\n",
            "\n",
            "Generated Passwords:\n",
            "Password 1: Rlot$v\n",
            "Password 2: ^o$JWr\n",
            "Password 3: :V1P\\W\n"
          ]
        }
      ],
      "source": [
        "import random\n",
        "import string\n",
        "\n",
        "# Function to generate a random password\n",
        "def generate_password(length):\n",
        "    # Combine letters (uppercase and lowercase), digits, and special characters\n",
        "    characters = string.ascii_letters + string.digits + string.punctuation\n",
        "    password = ''.join(random.choice(characters) for i in range(length))\n",
        "    return password\n",
        "\n",
        "# Main function to get user input and generate passwords\n",
        "def password_generator():\n",
        "    print(\"Welcome to the Password Generator!\")\n",
        "\n",
        "    # Get the number of passwords to generate\n",
        "    try:\n",
        "        num_passwords = int(input(\"How many passwords would you like to generate? \"))\n",
        "        if num_passwords <= 0:\n",
        "            print(\"Please enter a positive number greater than zero.\")\n",
        "            return\n",
        "    except ValueError:\n",
        "        print(\"Invalid input! Please enter a valid number.\")\n",
        "        return\n",
        "\n",
        "    # Get the length of each password\n",
        "    try:\n",
        "        password_length = int(input(\"Enter the length of each password: \"))\n",
        "        if password_length <= 0:\n",
        "            print(\"Please enter a positive number greater than zero.\")\n",
        "            return\n",
        "    except ValueError:\n",
        "        print(\"Invalid input! Please enter a valid number.\")\n",
        "        return\n",
        "\n",
        "    # Generate and display the passwords\n",
        "    print(\"\\nGenerated Passwords:\")\n",
        "    for i in range(num_passwords):\n",
        "        password = generate_password(password_length)\n",
        "        print(f\"Password {i + 1}: {password}\")\n",
        "\n",
        "# Run the password generator\n",
        "password_generator()\n"
      ]
    }
  ]
}