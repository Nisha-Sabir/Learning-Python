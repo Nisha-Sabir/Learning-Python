{
  "nbformat": 4,
  "nbformat_minor": 0,
  "metadata": {
    "colab": {
      "provenance": [],
      "authorship_tag": "ABX9TyP6PutFPp9uaELnCjFwxEio",
      "include_colab_link": true
    },
    "kernelspec": {
      "name": "python3",
      "display_name": "Python 3"
    },
    "language_info": {
      "name": "python"
    }
  },
  "cells": [
    {
      "cell_type": "markdown",
      "metadata": {
        "id": "view-in-github",
        "colab_type": "text"
      },
      "source": [
        "<a href=\"https://colab.research.google.com/github/Nisha-Sabir/Learning-Python/blob/main/3rd_Python_project_Guess_the_Number_Game_(user).ipynb\" target=\"_parent\"><img src=\"https://colab.research.google.com/assets/colab-badge.svg\" alt=\"Open In Colab\"/></a>"
      ]
    },
    {
      "cell_type": "markdown",
      "source": [
        "# 3rd_Python_project_Guess_the_Number_Game_(user)"
      ],
      "metadata": {
        "id": "DeLfnZVCgcwX"
      }
    },
    {
      "cell_type": "code",
      "execution_count": null,
      "metadata": {
        "id": "uGyARZwl0ShN"
      },
      "outputs": [],
      "source": [
        "import random\n",
        "\n",
        "def computer_guess():\n",
        "    print(\"Welcome to the 'Computer Guess the Number' game!\")\n",
        "    print(\"Think of a number between 1 and 100, and I'll try to guess it.\")\n",
        "    print(\"Please respond with 'h' for too high, 'l' for too low, and 'c' for correct.\")\n",
        "\n",
        "    # Define the initial bounds for the guessing range\n",
        "    low = 1\n",
        "    high = 100\n",
        "    attempts = 0\n",
        "    guessed = False\n",
        "\n",
        "    # Start the guessing loop\n",
        "    while not guessed:\n",
        "        # Make a guess in the middle of the current range\n",
        "        guess = random.randint(low, high)\n",
        "        attempts += 1\n",
        "        print(f\"My guess is: {guess}\")\n",
        "\n",
        "        # Get feedback from the user\n",
        "        feedback = input(\"Is my guess too high (h), too low (l), or correct (c)? \").lower()\n",
        "\n",
        "        # Process the feedback\n",
        "        if feedback == 'h':\n",
        "            high = guess - 1  # Adjust the upper bound if the guess is too high\n",
        "        elif feedback == 'l':\n",
        "            low = guess + 1   # Adjust the lower bound if the guess is too low\n",
        "        elif feedback == 'c':\n",
        "            guessed = True    # Correct guess, stop the loop\n",
        "            print(f\"Yay! I guessed your number in {attempts} attempts.\")\n",
        "        else:\n",
        "            print(\"Invalid input! Please respond with 'h', 'l', or 'c'.\")\n",
        "\n",
        "# Run the game\n",
        "computer_guess()\n"
      ]
    },
    {
      "cell_type": "markdown",
      "source": [
        "#MADE BY NISHA SABIR\n",
        "\n",
        "Github: https://github.com/Nisha-Sabir\n",
        "\n",
        "Linkedin: www.linkedin.com/in/nisha-rao2006\n",
        "\n"
      ],
      "metadata": {
        "id": "T0pHqvmFFLAI"
      }
    }
  ]
}