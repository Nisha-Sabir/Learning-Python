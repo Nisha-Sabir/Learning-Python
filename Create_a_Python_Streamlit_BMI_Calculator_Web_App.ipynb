{
  "nbformat": 4,
  "nbformat_minor": 0,
  "metadata": {
    "colab": {
      "provenance": [],
      "authorship_tag": "ABX9TyNCPF0EJ1m1wfLUz5I3CFRe",
      "include_colab_link": true
    },
    "kernelspec": {
      "name": "python3",
      "display_name": "Python 3"
    },
    "language_info": {
      "name": "python"
    }
  },
  "cells": [
    {
      "cell_type": "markdown",
      "metadata": {
        "id": "view-in-github",
        "colab_type": "text"
      },
      "source": [
        "<a href=\"https://colab.research.google.com/github/Nisha-Sabir/Learning-Python/blob/main/Create_a_Python_Streamlit_BMI_Calculator_Web_App.ipynb\" target=\"_parent\"><img src=\"https://colab.research.google.com/assets/colab-badge.svg\" alt=\"Open In Colab\"/></a>"
      ]
    },
    {
      "cell_type": "markdown",
      "source": [
        "# Create_a_Python_Streamlit_BMI_Calculator_Web_App"
      ],
      "metadata": {
        "id": "8DGOypPJgpwD"
      }
    },
    {
      "cell_type": "code",
      "execution_count": null,
      "metadata": {
        "colab": {
          "base_uri": "https://localhost:8080/"
        },
        "id": "iHiKnY1mpikL",
        "outputId": "1e09e1eb-42a1-4121-8458-f506f4701073"
      },
      "outputs": [
        {
          "output_type": "stream",
          "name": "stdout",
          "text": [
            "\u001b[2K     \u001b[90m━━━━━━━━━━━━━━━━━━━━━━━━━━━━━━━━━━━━━━━━\u001b[0m \u001b[32m44.3/44.3 kB\u001b[0m \u001b[31m3.1 MB/s\u001b[0m eta \u001b[36m0:00:00\u001b[0m\n",
            "\u001b[2K   \u001b[90m━━━━━━━━━━━━━━━━━━━━━━━━━━━━━━━━━━━━━━━━\u001b[0m \u001b[32m9.1/9.1 MB\u001b[0m \u001b[31m93.1 MB/s\u001b[0m eta \u001b[36m0:00:00\u001b[0m\n",
            "\u001b[2K   \u001b[90m━━━━━━━━━━━━━━━━━━━━━━━━━━━━━━━━━━━━━━━━\u001b[0m \u001b[32m6.9/6.9 MB\u001b[0m \u001b[31m86.5 MB/s\u001b[0m eta \u001b[36m0:00:00\u001b[0m\n",
            "\u001b[2K   \u001b[90m━━━━━━━━━━━━━━━━━━━━━━━━━━━━━━━━━━━━━━━━\u001b[0m \u001b[32m79.1/79.1 kB\u001b[0m \u001b[31m6.5 MB/s\u001b[0m eta \u001b[36m0:00:00\u001b[0m\n",
            "\u001b[?25h"
          ]
        }
      ],
      "source": [
        "!pip install streamlit pyngrok --quiet\n"
      ]
    },
    {
      "cell_type": "code",
      "source": [
        "from pyngrok import ngrok\n",
        "\n",
        "# Replace with your ngrok token\n",
        "ngrok.set_auth_token(\"2qJgTMIlbAPt1G6SUZF7csbhwn0_4FpQD7rvaetn5NHeRWdkr\")\n"
      ],
      "metadata": {
        "colab": {
          "base_uri": "https://localhost:8080/"
        },
        "id": "PwSsz2MGpkf_",
        "outputId": "6a51d31f-3832-4ef8-d2d4-d7dde582cc06"
      },
      "execution_count": null,
      "outputs": [
        {
          "output_type": "stream",
          "name": "stdout",
          "text": []
        }
      ]
    },
    {
      "cell_type": "code",
      "source": [
        "%%writefile app.py\n",
        "import streamlit as st\n",
        "\n",
        "# Set the title of the app\n",
        "st.title(\"BMI Calculator\")\n",
        "\n",
        "# Get user input for height (in cm)\n",
        "height = st.slider(\"Enter your height (in cm)\", 100, 250, 175)\n",
        "\n",
        "# Get user input for weight (in kg)\n",
        "weight = st.slider(\"Enter your weight (in kg)\", 40, 200, 70)\n",
        "\n",
        "# Calculate BMI\n",
        "height_in_meters = height / 100  # Convert cm to meters\n",
        "bmi = weight / (height_in_meters ** 2)\n",
        "\n",
        "# Display BMI result\n",
        "st.write(f\"Your BMI is: {bmi:.2f}\")\n",
        "\n",
        "# BMI categories\n",
        "if bmi < 18.5:\n",
        "    st.write(\"BMI Category: Underweight\")\n",
        "elif 18.5 <= bmi < 25:\n",
        "    st.write(\"BMI Category: Normal weight\")\n",
        "elif 25 <= bmi < 30:\n",
        "    st.write(\"BMI Category: Overweight\")\n",
        "else:\n",
        "    st.write(\"BMI Category: Obesity\")\n"
      ],
      "metadata": {
        "colab": {
          "base_uri": "https://localhost:8080/"
        },
        "id": "Q5Pwa3Awpp0r",
        "outputId": "30a41a0b-5903-4641-c4c1-72d61261f6f8"
      },
      "execution_count": null,
      "outputs": [
        {
          "output_type": "stream",
          "name": "stdout",
          "text": [
            "Writing app.py\n"
          ]
        }
      ]
    },
    {
      "cell_type": "code",
      "source": [
        "# Start ngrok tunnel for Streamlit app\n",
        "public_url = ngrok.connect(8501).public_url\n",
        "print(f\"Streamlit app is live at: {public_url}\")\n"
      ],
      "metadata": {
        "colab": {
          "base_uri": "https://localhost:8080/"
        },
        "id": "dnzWmIa0ptvE",
        "outputId": "3852f312-2896-4623-bb97-003df7629e1a"
      },
      "execution_count": null,
      "outputs": [
        {
          "output_type": "stream",
          "name": "stdout",
          "text": [
            "Streamlit app is live at: https://4ed5-35-245-235-19.ngrok-free.app\n"
          ]
        }
      ]
    },
    {
      "cell_type": "code",
      "source": [
        "!streamlit run app.py &>/dev/null &\n"
      ],
      "metadata": {
        "id": "oerrC3mZpx0g"
      },
      "execution_count": null,
      "outputs": []
    }
  ]
}