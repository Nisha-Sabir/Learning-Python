{
  "nbformat": 4,
  "nbformat_minor": 0,
  "metadata": {
    "colab": {
      "provenance": [],
      "authorship_tag": "ABX9TyMH6BigvDJxpVKMG7/4YY1h",
      "include_colab_link": true
    },
    "kernelspec": {
      "name": "python3",
      "display_name": "Python 3"
    },
    "language_info": {
      "name": "python"
    }
  },
  "cells": [
    {
      "cell_type": "markdown",
      "metadata": {
        "id": "view-in-github",
        "colab_type": "text"
      },
      "source": [
        "<a href=\"https://colab.research.google.com/github/Nisha-Sabir/Learning-Python/blob/main/4th_project_Rock_paper_sessor_game.ipynb\" target=\"_parent\"><img src=\"https://colab.research.google.com/assets/colab-badge.svg\" alt=\"Open In Colab\"/></a>"
      ]
    },
    {
      "cell_type": "code",
      "execution_count": null,
      "metadata": {
        "id": "sC3a4WbMpJ95"
      },
      "outputs": [],
      "source": [
        "import random\n",
        "\n",
        "# Function to get the computer's choice\n",
        "def get_computer_choice():\n",
        "    return random.choice(['rock', 'paper', 'scissors'])\n",
        "\n",
        "# Function to determine the winner\n",
        "def determine_winner(user_choice, computer_choice):\n",
        "    if user_choice == computer_choice:\n",
        "        return \"It's a tie!\"\n",
        "    elif (user_choice == 'rock' and computer_choice == 'scissors') or \\\n",
        "         (user_choice == 'scissors' and computer_choice == 'paper') or \\\n",
        "         (user_choice == 'paper' and computer_choice == 'rock'):\n",
        "        return \"You win!\"\n",
        "    else:\n",
        "        return \"Computer wins!\"\n",
        "\n",
        "# Main game loop\n",
        "print(\"Welcome to Rock, Paper, Scissors!\")\n",
        "\n",
        "while True:\n",
        "    # Get user's choice\n",
        "    user_choice = input(\"Enter rock, paper, or scissors (or 'quit' to stop): \").lower()\n",
        "\n",
        "    # Exit the game if the user types 'quit'\n",
        "    if user_choice == 'quit':\n",
        "        print(\"Thanks for playing!\")\n",
        "        break\n",
        "\n",
        "    # Validate user input\n",
        "    if user_choice not in ['rock', 'paper', 'scissors']:\n",
        "        print(\"Invalid input! Please enter 'rock', 'paper', or 'scissors'.\")\n",
        "        continue\n",
        "\n",
        "    # Get computer's choice\n",
        "    computer_choice = get_computer_choice()\n",
        "    print(f\"Computer chose: {computer_choice}\")\n",
        "\n",
        "    # Determine and display the winner\n",
        "    result = determine_winner(user_choice, computer_choice)\n",
        "    print(result)\n"
      ]
    }
  ]
}