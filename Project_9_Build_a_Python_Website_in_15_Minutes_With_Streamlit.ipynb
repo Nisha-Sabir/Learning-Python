{
  "nbformat": 4,
  "nbformat_minor": 0,
  "metadata": {
    "colab": {
      "provenance": [],
      "authorship_tag": "ABX9TyNG8zpUS5YvCAa6hB5wMgtr",
      "include_colab_link": true
    },
    "kernelspec": {
      "name": "python3",
      "display_name": "Python 3"
    },
    "language_info": {
      "name": "python"
    }
  },
  "cells": [
    {
      "cell_type": "markdown",
      "metadata": {
        "id": "view-in-github",
        "colab_type": "text"
      },
      "source": [
        "<a href=\"https://colab.research.google.com/github/Nisha-Sabir/Learning-Python/blob/main/Project_9_Build_a_Python_Website_in_15_Minutes_With_Streamlit.ipynb\" target=\"_parent\"><img src=\"https://colab.research.google.com/assets/colab-badge.svg\" alt=\"Open In Colab\"/></a>"
      ]
    },
    {
      "cell_type": "markdown",
      "source": [
        "# **Project 9: Build a Python Website in 15 Minutes With Streamlit**"
      ],
      "metadata": {
        "id": "N7r5HvBxdhaw"
      }
    },
    {
      "cell_type": "code",
      "execution_count": null,
      "metadata": {
        "colab": {
          "base_uri": "https://localhost:8080/"
        },
        "id": "D1XTSBUcbxZY",
        "outputId": "713ff051-c404-43f5-9f54-52a7f0f87af8"
      },
      "outputs": [
        {
          "output_type": "stream",
          "name": "stdout",
          "text": [
            "\u001b[2K     \u001b[90m━━━━━━━━━━━━━━━━━━━━━━━━━━━━━━━━━━━━━━━━\u001b[0m \u001b[32m44.3/44.3 kB\u001b[0m \u001b[31m1.8 MB/s\u001b[0m eta \u001b[36m0:00:00\u001b[0m\n",
            "\u001b[2K   \u001b[90m━━━━━━━━━━━━━━━━━━━━━━━━━━━━━━━━━━━━━━━━\u001b[0m \u001b[32m9.1/9.1 MB\u001b[0m \u001b[31m57.4 MB/s\u001b[0m eta \u001b[36m0:00:00\u001b[0m\n",
            "\u001b[2K   \u001b[90m━━━━━━━━━━━━━━━━━━━━━━━━━━━━━━━━━━━━━━━━\u001b[0m \u001b[32m6.9/6.9 MB\u001b[0m \u001b[31m74.8 MB/s\u001b[0m eta \u001b[36m0:00:00\u001b[0m\n",
            "\u001b[2K   \u001b[90m━━━━━━━━━━━━━━━━━━━━━━━━━━━━━━━━━━━━━━━━\u001b[0m \u001b[32m79.1/79.1 kB\u001b[0m \u001b[31m5.5 MB/s\u001b[0m eta \u001b[36m0:00:00\u001b[0m\n",
            "\u001b[?25h"
          ]
        }
      ],
      "source": [
        "!pip install streamlit pyngrok --quiet\n"
      ]
    },
    {
      "cell_type": "code",
      "source": [
        "from pyngrok import ngrok\n",
        "\n",
        "# Replace with your ngrok token\n",
        "ngrok.set_auth_token(\"2qJr9VdM9AfIufcK9DrPT9j97zL_DeqFSZ9RaC8cW3oLhaNR\")\n"
      ],
      "metadata": {
        "colab": {
          "base_uri": "https://localhost:8080/"
        },
        "id": "lYtqVJVDb5-3",
        "outputId": "812baa0b-0a34-4719-da02-f5dbbf1d4d10"
      },
      "execution_count": null,
      "outputs": [
        {
          "output_type": "stream",
          "name": "stdout",
          "text": []
        }
      ]
    },
    {
      "cell_type": "code",
      "source": [
        "%%writefile app.py"
      ],
      "metadata": {
        "colab": {
          "base_uri": "https://localhost:8080/"
        },
        "id": "N2InKCTYCzLT",
        "outputId": "2d0cf204-5aa7-4b0c-f19c-951ce1baa88d"
      },
      "execution_count": null,
      "outputs": [
        {
          "output_type": "stream",
          "name": "stdout",
          "text": [
            "Writing app.py\n"
          ]
        }
      ]
    },
    {
      "cell_type": "code",
      "source": [
        "\n",
        "import streamlit as st\n",
        "\n",
        "\n",
        "code = \"\"\"\n",
        "import streamlit as st\n",
        "import pandas as pd\n",
        "import matplotlib.pyplot as plt\n",
        "\n",
        "st.title(\"Simple Data Dashboard\")\n",
        "\n",
        "uploaded_file = st.file_uploader(\"Choose a CSV file\", type=\"csv\")\n",
        "\n",
        "if uploaded_file is not None:\n",
        "    df = pd.read_csv(uploaded_file)\n",
        "\n",
        "    st.subheader(\"Data Preview\")\n",
        "    st.write(df.head())\n",
        "\n",
        "    st.subheader(\"Data Summary\")\n",
        "    st.write(df.describe())\n",
        "\n",
        "    st.subheader(\"Filter Data\")\n",
        "    columns = df.columns.tolist()\n",
        "    selected_column = st.selectbox(\"Select column to filter by\", columns)\n",
        "    unique_values = df[selected_column].unique()\n",
        "    selected_value = st.selectbox(\"Select value\", unique_values)\n",
        "\n",
        "    filtered_df = df[df[selected_column] == selected_value]\n",
        "    st.write(filtered_df)\n",
        "\n",
        "    st.subheader(\"Plot Data\")\n",
        "    x_column = st.selectbox(\"Select x-axis column\", columns)\n",
        "    y_column = st.selectbox(\"Select y-axis column\", columns)\n",
        "\n",
        "    if st.button(\"Generate Plot\"):\n",
        "        st.line_chart(filtered_df.set_index(x_column)[y_column])\n",
        "else:\n",
        "    st.write(\"Waiting on file upload...\")\n",
        "\"\"\"\n",
        "with open(\"app.py\", \"w\") as f:\n",
        "    f.write(code)\n"
      ],
      "metadata": {
        "id": "RArECMq5ciK5"
      },
      "execution_count": null,
      "outputs": []
    },
    {
      "cell_type": "code",
      "source": [
        "# Start ngrok tunnel for Streamlit app\n",
        "public_url = ngrok.connect(8501).public_url\n",
        "print(f\"Streamlit app is live at: {public_url}\")\n"
      ],
      "metadata": {
        "colab": {
          "base_uri": "https://localhost:8080/"
        },
        "id": "wMQieh_Ycl10",
        "outputId": "79281d2b-7f0d-4752-d03c-9dfb95e398ed"
      },
      "execution_count": null,
      "outputs": [
        {
          "output_type": "stream",
          "name": "stdout",
          "text": [
            "Streamlit app is live at: https://5fad-34-73-168-3.ngrok-free.app\n"
          ]
        }
      ]
    },
    {
      "cell_type": "code",
      "source": [
        "!streamlit run app.py &>/dev/null &\n"
      ],
      "metadata": {
        "id": "Y1xLfzL5cpDV"
      },
      "execution_count": null,
      "outputs": []
    },
    {
      "cell_type": "markdown",
      "source": [
        "#MADE BY NISHA SABIR\n",
        "\n",
        "Github: https://github.com/Nisha-Sabir\n",
        "\n",
        "Linkedin: www.linkedin.com/in/nisha-rao2006\n",
        "\n"
      ],
      "metadata": {
        "id": "0SAcSCLBHUez"
      }
    }
  ]
}