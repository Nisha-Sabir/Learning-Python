{
  "nbformat": 4,
  "nbformat_minor": 0,
  "metadata": {
    "colab": {
      "provenance": [],
      "authorship_tag": "ABX9TyNtMk3NmjD7YAQVXDHQOIDF",
      "include_colab_link": true
    },
    "kernelspec": {
      "name": "python3",
      "display_name": "Python 3"
    },
    "language_info": {
      "name": "python"
    }
  },
  "cells": [
    {
      "cell_type": "markdown",
      "metadata": {
        "id": "view-in-github",
        "colab_type": "text"
      },
      "source": [
        "<a href=\"https://colab.research.google.com/github/Nisha-Sabir/Learning-Python/blob/main/python_project_(Madlibs).ipynb\" target=\"_parent\"><img src=\"https://colab.research.google.com/assets/colab-badge.svg\" alt=\"Open In Colab\"/></a>"
      ]
    },
    {
      "cell_type": "markdown",
      "source": [
        "**1st Python Project (Madlibs)**"
      ],
      "metadata": {
        "id": "_ERaPXGoNno-"
      }
    },
    {
      "cell_type": "code",
      "execution_count": null,
      "metadata": {
        "id": "pBuwSy28Mr5p"
      },
      "outputs": [],
      "source": [
        "# Mad Libs Game in Python using f-strings\n",
        "\n",
        "# Get inputs from the user\n",
        "adjective = input(\"Funny: \")\n",
        "noun = input(\"Cat: \")\n",
        "verb = input(\"Run: \")\n",
        "place = input(\"garden: \")\n",
        "color = input(\"Green: \")\n",
        "\n",
        "# Create a mad lib story using f-string\n",
        "madlib = f\"Once upon a time, in a {place} far away, there was a {color} {noun} who loved to {verb} every day. It was very {adjective}.\"\n",
        "\n",
        "# Print the mad lib story\n",
        "print(\"\\nHere's your Mad Libs story:\")\n",
        "print(madlib)"
      ]
    }
  ]
}