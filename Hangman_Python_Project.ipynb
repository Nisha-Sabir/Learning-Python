{
  "nbformat": 4,
  "nbformat_minor": 0,
  "metadata": {
    "colab": {
      "provenance": [],
      "authorship_tag": "ABX9TyN6gBoHifX6fyEtFONaKtf4",
      "include_colab_link": true
    },
    "kernelspec": {
      "name": "python3",
      "display_name": "Python 3"
    },
    "language_info": {
      "name": "python"
    }
  },
  "cells": [
    {
      "cell_type": "markdown",
      "metadata": {
        "id": "view-in-github",
        "colab_type": "text"
      },
      "source": [
        "<a href=\"https://colab.research.google.com/github/Nisha-Sabir/Learning-Python/blob/main/Hangman_Python_Project.ipynb\" target=\"_parent\"><img src=\"https://colab.research.google.com/assets/colab-badge.svg\" alt=\"Open In Colab\"/></a>"
      ]
    },
    {
      "cell_type": "markdown",
      "source": [
        "**5th python project \"Hangman\" **"
      ],
      "metadata": {
        "id": "f9aGgFDGog6S"
      }
    },
    {
      "cell_type": "code",
      "execution_count": null,
      "metadata": {
        "id": "GN8jeA7pnwDh"
      },
      "outputs": [],
      "source": [
        "import random\n",
        "import string\n",
        "\n",
        "# List of words to choose from\n",
        "words = ['python', 'java', 'hangman', 'programming', 'developer', 'computer']\n",
        "\n",
        "# Select a random word from the list\n",
        "word_to_guess = random.choice(words)\n",
        "\n",
        "# Create a list of underscores representing each letter in the word\n",
        "guessed_word = ['_'] * len(word_to_guess)\n",
        "\n",
        "# Number of allowed incorrect guesses\n",
        "max_attempts = 6\n",
        "attempts = 0\n",
        "\n",
        "# Keep track of letters already guessed\n",
        "guessed_letters = []\n",
        "\n",
        "# Function to display the current state of the guessed word\n",
        "def display_word():\n",
        "    print(\"Current word:\", \" \".join(guessed_word))\n",
        "\n",
        "# Game loop\n",
        "print(\"Welcome to Hangman!\")\n",
        "while attempts < max_attempts:\n",
        "    # Display the current state of the word\n",
        "    display_word()\n",
        "\n",
        "    # Get input from the player\n",
        "    guess = input(\"Guess a letter: \").lower()\n",
        "\n",
        "    # Validate input (check if the letter is a single alphabetic character)\n",
        "    if len(guess) != 1 or guess not in string.ascii_lowercase:\n",
        "        print(\"Invalid input! Please enter a single letter.\")\n",
        "        continue\n",
        "\n",
        "    # Check if the letter has already been guessed\n",
        "    if guess in guessed_letters:\n",
        "        print(\"You've already guessed that letter!\")\n",
        "        continue\n",
        "\n",
        "    # Add the guessed letter to the list of guessed letters\n",
        "    guessed_letters.append(guess)\n",
        "\n",
        "    # Check if the guessed letter is in the word\n",
        "    if guess in word_to_guess:\n",
        "        print(f\"Good guess! The letter '{guess}' is in the word.\")\n",
        "        # Update the guessed word with the correct letter(s)\n",
        "        for i in range(len(word_to_guess)):\n",
        "            if word_to_guess[i] == guess:\n",
        "                guessed_word[i] = guess\n",
        "    else:\n",
        "        print(f\"Oops! The letter '{guess}' is not in the word.\")\n",
        "        attempts += 1\n",
        "\n",
        "    # Check if the player has guessed the word\n",
        "    if \"_\" not in guessed_word:\n",
        "        print(f\"Congratulations! You've guessed the word: {word_to_guess}\")\n",
        "        break\n",
        "else:\n",
        "    print(f\"Game over! The word was: {word_to_guess}\")\n"
      ]
    }
  ]
}