{
  "nbformat": 4,
  "nbformat_minor": 0,
  "metadata": {
    "colab": {
      "provenance": [],
      "authorship_tag": "ABX9TyNSWrVfBwlMsy81jYTHlWLK",
      "include_colab_link": true
    },
    "kernelspec": {
      "name": "python3",
      "display_name": "Python 3"
    },
    "language_info": {
      "name": "python"
    }
  },
  "cells": [
    {
      "cell_type": "markdown",
      "metadata": {
        "id": "view-in-github",
        "colab_type": "text"
      },
      "source": [
        "<a href=\"https://colab.research.google.com/github/Nisha-Sabir/Learning-Python/blob/main/6th_project_Countdown.ipynb\" target=\"_parent\"><img src=\"https://colab.research.google.com/assets/colab-badge.svg\" alt=\"Open In Colab\"/></a>"
      ]
    },
    {
      "cell_type": "markdown",
      "source": [
        "**6th python Project (Countdown)**"
      ],
      "metadata": {
        "id": "6mhY-5DzrAXR"
      }
    },
    {
      "cell_type": "code",
      "execution_count": null,
      "metadata": {
        "id": "0A6B9cCXqrBT"
      },
      "outputs": [],
      "source": [
        "import time\n",
        "\n",
        "# Function to start the countdown timer\n",
        "def countdown_timer(seconds):\n",
        "    while seconds > 0:\n",
        "        # Print the remaining time\n",
        "        print(f\"Time remaining: {seconds} seconds\")\n",
        "        # Wait for 1 second\n",
        "        time.sleep(1)\n",
        "        # Decrease the time by 1 second\n",
        "        seconds -= 1\n",
        "\n",
        "    # When the countdown is finished\n",
        "    print(\"Time's up!\")\n",
        "\n",
        "# Main code to get user input and start the timer\n",
        "print(\"Welcome to the Countdown Timer!\")\n",
        "\n",
        "# Get the number of seconds from the user\n",
        "try:\n",
        "    seconds = int(input(\"Enter the number of seconds for the countdown: \"))\n",
        "    if seconds <= 0:\n",
        "        print(\"Please enter a positive number greater than zero.\")\n",
        "    else:\n",
        "        countdown_timer(seconds)\n",
        "except ValueError:\n",
        "    print(\"Invalid input! Please enter a valid number of seconds.\")\n"
      ]
    }
  ]
}