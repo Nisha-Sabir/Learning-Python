{
  "nbformat": 4,
  "nbformat_minor": 0,
  "metadata": {
    "colab": {
      "provenance": [],
      "authorship_tag": "ABX9TyO1hF/wTHBF/XRjV7wyzE1/",
      "include_colab_link": true
    },
    "kernelspec": {
      "name": "python3",
      "display_name": "Python 3"
    },
    "language_info": {
      "name": "python"
    }
  },
  "cells": [
    {
      "cell_type": "markdown",
      "metadata": {
        "id": "view-in-github",
        "colab_type": "text"
      },
      "source": [
        "<a href=\"https://colab.research.google.com/github/Nisha-Sabir/Learning-Python/blob/main/2nd_Python_Project_Guess_the_number_Game_(Computer).ipynb\" target=\"_parent\"><img src=\"https://colab.research.google.com/assets/colab-badge.svg\" alt=\"Open In Colab\"/></a>"
      ]
    },
    {
      "cell_type": "markdown",
      "source": [
        "**2nd Python Project (Guess the Number Game) (computer)**"
      ],
      "metadata": {
        "id": "Ls6wJjSxvqjj"
      }
    },
    {
      "cell_type": "code",
      "execution_count": null,
      "metadata": {
        "id": "pd8ATt50uCQy"
      },
      "outputs": [],
      "source": [
        "import random\n",
        "\n",
        "def guess_the_number():\n",
        "    print(\"Welcome to the Guess the Number game!\")\n",
        "    print(\"I'm thinking of a number between 1 and 100.\")\n",
        "\n",
        "    # Generate a random number between 1 and 100\n",
        "    number_to_guess = random.randint(1, 100)\n",
        "\n",
        "    attempts = 0\n",
        "    guessed = False\n",
        "\n",
        "    # Keep asking the player to guess until they get it right\n",
        "    while not guessed:\n",
        "        # Ask for the player's guess\n",
        "        try:\n",
        "            player_guess = int(input(\"Enter your guess: \"))\n",
        "        except ValueError:\n",
        "            print(\"Please enter a valid number.\")\n",
        "            continue\n",
        "\n",
        "        # Increment attempt counter\n",
        "        attempts += 1\n",
        "\n",
        "        # Check if the guess is correct, too high, or too low\n",
        "        if player_guess < number_to_guess:\n",
        "            print(\"Too low! Try again.\")\n",
        "        elif player_guess > number_to_guess:\n",
        "            print(\"Too high! Try again.\")\n",
        "        else:\n",
        "            guessed = True\n",
        "            print(f\"Congratulations! You've guessed the number in {attempts} attempts.\")\n",
        "\n",
        "# Run the game\n",
        "guess_the_number()\n"
      ]
    },
    {
      "cell_type": "markdown",
      "source": [
        "#MADE BY NISHA SABIR\n",
        "\n",
        "Github: https://github.com/Nisha-Sabir\n",
        "\n",
        "Linkedin: www.linkedin.com/in/nisha-rao2006\n",
        "\n"
      ],
      "metadata": {
        "id": "yb7DgO3QE_bl"
      }
    }
  ]
}